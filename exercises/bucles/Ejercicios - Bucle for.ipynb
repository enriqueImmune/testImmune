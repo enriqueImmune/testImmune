{
  "cells": [
    {
      "cell_type": "markdown",
      "metadata": {
        "id": "view-in-github",
        "colab_type": "text"
      },
      "source": [
        "<a href=\"https://colab.research.google.com/github/enriqueImmune/testImmune/blob/main/exercises/bucles/Ejercicios%20-%20Bucle%20for.ipynb\" target=\"_parent\"><img src=\"https://colab.research.google.com/assets/colab-badge.svg\" alt=\"Open In Colab\"/></a>"
      ]
    },
    {
      "cell_type": "markdown",
      "metadata": {
        "id": "THf5OffyCEIG"
      },
      "source": [
        "**5.1. Ejercicios: bucle for**"
      ]
    },
    {
      "cell_type": "markdown",
      "metadata": {
        "id": "HToNxUH8GoFr"
      },
      "source": [
        "# Ejercicio 1\n",
        "\n"
      ]
    },
    {
      "cell_type": "markdown",
      "metadata": {
        "id": "G-lJ59z6G0ds"
      },
      "source": [
        "Escribir programa que solicite ingresar un nombre de usuario y una contraseña. Si el nombre es “Maxx Powell” y la contraseña es “scorpio”, mostrar en pantalla “Usuario y contraseña correctos. Puede ingresar a masterDSimmune.com”. Si el nombre o la contraseña no coinciden, mostrar “Acceso denegado”.\n",
        "\n"
      ]
    },
    {
      "cell_type": "code",
      "execution_count": 2,
      "metadata": {
        "id": "cnRtZVRgIwfz",
        "outputId": "bb82d633-5456-40cc-ec9e-0267e5169340",
        "colab": {
          "base_uri": "https://localhost:8080/"
        }
      },
      "outputs": [
        {
          "output_type": "stream",
          "name": "stdout",
          "text": [
            "11\n"
          ]
        }
      ],
      "source": [
        "a = 5\n",
        "b = 6\n",
        "print(a + b)"
      ]
    },
    {
      "cell_type": "markdown",
      "metadata": {
        "id": "WgS6QjY4CHH2"
      },
      "source": [
        "# Ejercicio 2"
      ]
    },
    {
      "cell_type": "markdown",
      "metadata": {
        "id": "J-LAyWpTIw97"
      },
      "source": [
        "Escribir un programa para solicitar al usuario tres números y mostrar en pantalla al menor de los tres."
      ]
    },
    {
      "cell_type": "code",
      "execution_count": null,
      "metadata": {
        "id": "xxHHIurWJHdj"
      },
      "outputs": [],
      "source": []
    },
    {
      "cell_type": "markdown",
      "metadata": {
        "id": "A1-T_ELYCIL1"
      },
      "source": [
        "# Ejercicio 3"
      ]
    },
    {
      "cell_type": "markdown",
      "metadata": {
        "id": "BredljxPJHyD"
      },
      "source": [
        "Escribir programa que permita saber si un año es bisiesto. Para que un año sea bisiesto debe ser divisible por 4 y no debe ser divisible por 100, excepto que también sea divisible por 400."
      ]
    },
    {
      "cell_type": "code",
      "execution_count": null,
      "metadata": {
        "id": "Q447K_4eJSJL"
      },
      "outputs": [],
      "source": []
    },
    {
      "cell_type": "markdown",
      "metadata": {
        "id": "nW9gOVwwCJN2"
      },
      "source": [
        "# Ejercicio 4"
      ]
    },
    {
      "cell_type": "markdown",
      "metadata": {
        "id": "fTyh-JcVJxwc"
      },
      "source": [
        "Escribe un programa que muestre la sumatoria de todos los números entre el 0 y el 100."
      ]
    },
    {
      "cell_type": "code",
      "execution_count": null,
      "metadata": {
        "id": "_-TEuWLwKIjL"
      },
      "outputs": [],
      "source": []
    },
    {
      "cell_type": "markdown",
      "metadata": {
        "id": "48pwGNt5CREN"
      },
      "source": [
        "# Ejercicio 5"
      ]
    },
    {
      "cell_type": "markdown",
      "metadata": {
        "id": "MbhhjCnXKIus"
      },
      "source": [
        "Escribir un programa que, dado un número por el usuario, muestre todos sus divisores positivos"
      ]
    },
    {
      "cell_type": "code",
      "execution_count": null,
      "metadata": {
        "id": "ipy1z34mKgzL"
      },
      "outputs": [],
      "source": []
    },
    {
      "cell_type": "markdown",
      "metadata": {
        "id": "fd5cxsDhCSL1"
      },
      "source": [
        "# Ejercicio 6"
      ]
    },
    {
      "cell_type": "markdown",
      "metadata": {
        "id": "SHdwwbJ5KhAk"
      },
      "source": [
        "Escribir programa que muestre los primeros 10 números de la sucesión de Fibonacci. La sucesión comienza con los números 0 y 1 y, a partir de éstos, cada elemento es la suma de los dos números anteriores en la secuencia: 0, 1, 1, 2, 3, 5, 8, 13, 21, 34, 55…"
      ]
    },
    {
      "cell_type": "code",
      "execution_count": null,
      "metadata": {
        "id": "NGT4cObwK4sz"
      },
      "outputs": [],
      "source": []
    },
    {
      "cell_type": "markdown",
      "metadata": {
        "id": "CZkqltOGCT--"
      },
      "source": [
        "# Ejercicio 7"
      ]
    },
    {
      "cell_type": "markdown",
      "metadata": {
        "id": "sjgB1oQEK5Tq"
      },
      "source": [
        "Escribir programa que, dado un número entero positivo, calcule y muestre su factorial."
      ]
    },
    {
      "cell_type": "code",
      "execution_count": null,
      "metadata": {
        "id": "I-Vq7GpLLAYb"
      },
      "outputs": [],
      "source": []
    },
    {
      "cell_type": "markdown",
      "metadata": {
        "id": "G_sNfsnoCWIl"
      },
      "source": [
        "# Ejercicio 8"
      ]
    },
    {
      "cell_type": "markdown",
      "metadata": {
        "id": "1xOF-DBKL0az"
      },
      "source": [
        "Escribir programa que permita al usuario ingresar el coste de las compras de un cliente (se desconoce la cantidad de datos que cargará, la cual puede cambiar en cada ejecución), cortando el ingreso de datos cuando el usuario ingrese el coste 0. Si ingresa un coste negativo, no se debe procesar y se debe pedir que ingrese un nuevo coste. Al finalizar, informar el total a pagar teniendo que cuenta que, si las ventas superan el monto total de 1000, se le debe aplicar un 10% de descuento.\n",
        "\n",
        "Utilizar Try, Catch por si el usuario introduce una cadena de texto."
      ]
    },
    {
      "cell_type": "code",
      "execution_count": null,
      "metadata": {
        "id": "J5fKMrRiMUYM"
      },
      "outputs": [],
      "source": []
    }
  ],
  "metadata": {
    "colab": {
      "name": "Ej_M2_U3_P2 - Bucle for",
      "provenance": [],
      "include_colab_link": true
    },
    "kernelspec": {
      "display_name": "Python 3",
      "language": "python",
      "name": "python3"
    },
    "language_info": {
      "name": "python",
      "version": "3.10.6"
    },
    "vscode": {
      "interpreter": {
        "hash": "31f2aee4e71d21fbe5cf8b01ff0e069b9275f58929596ceb00d14d90e3e16cd6"
      }
    }
  },
  "nbformat": 4,
  "nbformat_minor": 0
}